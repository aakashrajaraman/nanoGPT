{
 "cells": [
  {
   "cell_type": "code",
   "execution_count": 2,
   "metadata": {},
   "outputs": [],
   "source": [
    "import torch\n",
    "from sklearn.model_selection import train_test_split"
   ]
  },
  {
   "cell_type": "code",
   "execution_count": 3,
   "metadata": {},
   "outputs": [],
   "source": [
    "with open('input.txt', 'r', encoding = \"utf-8\") as file:\n",
    "    text = file.read()"
   ]
  },
  {
   "cell_type": "code",
   "execution_count": 4,
   "metadata": {},
   "outputs": [
    {
     "name": "stdout",
     "output_type": "stream",
     "text": [
      "1115393\n",
      "65\n"
     ]
    }
   ],
   "source": [
    "print(len(text))\n",
    "vocab = len(sorted(set(text)))\n",
    "print(vocab)"
   ]
  },
  {
   "cell_type": "code",
   "execution_count": 5,
   "metadata": {},
   "outputs": [
    {
     "name": "stdout",
     "output_type": "stream",
     "text": [
      "total chars: ['\\n', ' ', '!', '$', '&', \"'\", ',', '-', '.', '3', ':', ';', '?', 'A', 'B', 'C', 'D', 'E', 'F', 'G', 'H', 'I', 'J', 'K', 'L', 'M', 'N', 'O', 'P', 'Q', 'R', 'S', 'T', 'U', 'V', 'W', 'X', 'Y', 'Z', 'a', 'b', 'c', 'd', 'e', 'f', 'g', 'h', 'i', 'j', 'k', 'l', 'm', 'n', 'o', 'p', 'q', 'r', 's', 't', 'u', 'v', 'w', 'x', 'y', 'z'] 65\n"
     ]
    }
   ],
   "source": [
    "#find all unique characters in the text\n",
    "chars = sorted(list(set(text)))\n",
    "print('total chars:',chars,  len(chars))"
   ]
  },
  {
   "cell_type": "code",
   "execution_count": 6,
   "metadata": {},
   "outputs": [
    {
     "name": "stdout",
     "output_type": "stream",
     "text": [
      "[28, 22, 61, 61, 27, 10, 19, 48, 22, 32, 22]\n",
      "Hello there\n"
     ]
    }
   ],
   "source": [
    "#create tokens for each char\n",
    "tokens = {char: idx for idx, char in enumerate(set(text))}\n",
    "snekot = {idx: char for idx, char in enumerate(set(text))}\n",
    "encode = lambda s: [tokens[c] for c in s]\n",
    "decode = lambda a: ''.join([snekot[i] for i in a])\n",
    "print(encode(\"Hello there\"))\n",
    "print(decode(encode(\"Hello there\")))\n"
   ]
  },
  {
   "cell_type": "code",
   "execution_count": 7,
   "metadata": {},
   "outputs": [],
   "source": [
    "import sentencepiece as spm\n",
    "spm.SentencePieceTrainer.train(input='input.txt', model_prefix='model', vocab_size=10000)\n"
   ]
  },
  {
   "cell_type": "code",
   "execution_count": 8,
   "metadata": {},
   "outputs": [
    {
     "data": {
      "text/plain": [
       "'My name is John.'"
      ]
     },
     "execution_count": 8,
     "metadata": {},
     "output_type": "execute_result"
    }
   ],
   "source": [
    "sp = spm.SentencePieceProcessor(model_file='model.model')\n",
    "sp.Encode(\"My name is John.\")\n",
    "sp.DecodeIds([89, 212, 25, 1370, 5])"
   ]
  },
  {
   "cell_type": "code",
   "execution_count": 9,
   "metadata": {},
   "outputs": [],
   "source": [
    "data = torch.tensor(encode(text), dtype=torch.int64)"
   ]
  },
  {
   "cell_type": "code",
   "execution_count": 10,
   "metadata": {},
   "outputs": [],
   "source": [
    "train_data, val_data = train_test_split(data, test_size=0.1, random_state=42)"
   ]
  },
  {
   "cell_type": "code",
   "execution_count": 11,
   "metadata": {},
   "outputs": [
    {
     "data": {
      "text/plain": [
       "tensor([16,  9,  9, 19, 52, 10, 31, 47, 32, 61, 53])"
      ]
     },
     "execution_count": 11,
     "metadata": {},
     "output_type": "execute_result"
    }
   ],
   "source": [
    "block_size = 10\n",
    "train_data[:block_size+1]\n",
    "#this simulates a basic ngram proposition, where 50 implies 18. 50 and 18 implies 18. 50, 18, and 18 implies 63. etc.\n",
    "#this trains the transformer to be used to context of n=1 all the way up to n=block_size."
   ]
  },
  {
   "cell_type": "code",
   "execution_count": 12,
   "metadata": {},
   "outputs": [],
   "source": [
    "#blocks/chunks are groups of tokens\n",
    "#batches are groups of blocks/chunks"
   ]
  },
  {
   "cell_type": "code",
   "execution_count": 13,
   "metadata": {},
   "outputs": [],
   "source": [
    "torch.manual_seed(0)\n",
    "block_size = 10\n",
    "batch_size = 4\n",
    "def get_batch(split):\n",
    "    data = train_data if split == \"train\" else val_data\n",
    "    ix = torch.randint(0,len(data) - block_size - 1, (batch_size,))\n",
    "    x = torch.stack([data[i:i+block_size] for i in ix])\n",
    "    y = torch.stack([data[i+1:i+block_size+1] for i in ix])\n",
    "    return x, y"
   ]
  },
  {
   "cell_type": "code",
   "execution_count": 14,
   "metadata": {},
   "outputs": [
    {
     "name": "stdout",
     "output_type": "stream",
     "text": [
      "torch.Size([4, 10]) \n",
      " tensor([[10,  8, 22, 10, 61, 24, 61, 48, 19, 32],\n",
      "        [ 9, 10, 22, 10, 19, 12, 10, 19, 27, 53],\n",
      "        [11, 48, 12, 50,  9, 22, 16, 27, 39, 48],\n",
      "        [32,  1, 12, 48, 32, 48, 16, 63, 10, 19]])\n",
      "torch.Size([4, 10]) \n",
      " tensor([[ 8, 22, 10, 61, 24, 61, 48, 19, 32, 22],\n",
      "        [10, 22, 10, 19, 12, 10, 19, 27, 53, 49],\n",
      "        [48, 12, 50,  9, 22, 16, 27, 39, 48, 36],\n",
      "        [ 1, 12, 48, 32, 48, 16, 63, 10, 19, 12]])\n",
      "When input is tensor([10]) target is tensor(8)\n",
      "When input is tensor([10,  8]) target is tensor(22)\n",
      "When input is tensor([10,  8, 22]) target is tensor(10)\n",
      "When input is tensor([10,  8, 22, 10]) target is tensor(61)\n",
      "When input is tensor([10,  8, 22, 10, 61]) target is tensor(24)\n",
      "When input is tensor([10,  8, 22, 10, 61, 24]) target is tensor(61)\n",
      "When input is tensor([10,  8, 22, 10, 61, 24, 61]) target is tensor(48)\n",
      "When input is tensor([10,  8, 22, 10, 61, 24, 61, 48]) target is tensor(19)\n",
      "When input is tensor([10,  8, 22, 10, 61, 24, 61, 48, 19]) target is tensor(32)\n",
      "When input is tensor([10,  8, 22, 10, 61, 24, 61, 48, 19, 32]) target is tensor(22)\n",
      "When input is tensor([9]) target is tensor(10)\n",
      "When input is tensor([ 9, 10]) target is tensor(22)\n",
      "When input is tensor([ 9, 10, 22]) target is tensor(10)\n",
      "When input is tensor([ 9, 10, 22, 10]) target is tensor(19)\n",
      "When input is tensor([ 9, 10, 22, 10, 19]) target is tensor(12)\n",
      "When input is tensor([ 9, 10, 22, 10, 19, 12]) target is tensor(10)\n",
      "When input is tensor([ 9, 10, 22, 10, 19, 12, 10]) target is tensor(19)\n",
      "When input is tensor([ 9, 10, 22, 10, 19, 12, 10, 19]) target is tensor(27)\n",
      "When input is tensor([ 9, 10, 22, 10, 19, 12, 10, 19, 27]) target is tensor(53)\n",
      "When input is tensor([ 9, 10, 22, 10, 19, 12, 10, 19, 27, 53]) target is tensor(49)\n",
      "When input is tensor([11]) target is tensor(48)\n",
      "When input is tensor([11, 48]) target is tensor(12)\n",
      "When input is tensor([11, 48, 12]) target is tensor(50)\n",
      "When input is tensor([11, 48, 12, 50]) target is tensor(9)\n",
      "When input is tensor([11, 48, 12, 50,  9]) target is tensor(22)\n",
      "When input is tensor([11, 48, 12, 50,  9, 22]) target is tensor(16)\n",
      "When input is tensor([11, 48, 12, 50,  9, 22, 16]) target is tensor(27)\n",
      "When input is tensor([11, 48, 12, 50,  9, 22, 16, 27]) target is tensor(39)\n",
      "When input is tensor([11, 48, 12, 50,  9, 22, 16, 27, 39]) target is tensor(48)\n",
      "When input is tensor([11, 48, 12, 50,  9, 22, 16, 27, 39, 48]) target is tensor(36)\n",
      "When input is tensor([32]) target is tensor(1)\n",
      "When input is tensor([32,  1]) target is tensor(12)\n",
      "When input is tensor([32,  1, 12]) target is tensor(48)\n",
      "When input is tensor([32,  1, 12, 48]) target is tensor(32)\n",
      "When input is tensor([32,  1, 12, 48, 32]) target is tensor(48)\n",
      "When input is tensor([32,  1, 12, 48, 32, 48]) target is tensor(16)\n",
      "When input is tensor([32,  1, 12, 48, 32, 48, 16]) target is tensor(63)\n",
      "When input is tensor([32,  1, 12, 48, 32, 48, 16, 63]) target is tensor(10)\n",
      "When input is tensor([32,  1, 12, 48, 32, 48, 16, 63, 10]) target is tensor(19)\n",
      "When input is tensor([32,  1, 12, 48, 32, 48, 16, 63, 10, 19]) target is tensor(12)\n"
     ]
    }
   ],
   "source": [
    "xb,yb = get_batch('train')\n",
    "print(xb.shape,'\\n',xb)\n",
    "print(yb.shape,'\\n',yb)\n",
    "for b in range(batch_size):\n",
    "    for c in range(block_size):\n",
    "        con = xb[b, :c+1]\n",
    "        tar = yb[b, c]\n",
    "        print(\"When input is\", con, \"target is\", tar)"
   ]
  },
  {
   "cell_type": "code",
   "execution_count": 15,
   "metadata": {},
   "outputs": [
    {
     "name": "stdout",
     "output_type": "stream",
     "text": [
      "torch.Size([40, 65])\n",
      "tensor(4.8956, grad_fn=<NllLossBackward0>)\n"
     ]
    }
   ],
   "source": [
    "import torch.nn as nn\n",
    "import torch.nn.functional as F\n",
    "class Bigram(nn.Module):\n",
    "    def __init__(self,  vocab):\n",
    "        super().__init__()\n",
    "        self.token_embedding_table= nn.Embedding(vocab, vocab)\n",
    "    def forward(self, idx, targets=None):\n",
    "        logits= self.token_embedding_table(idx)#creates a [batch, chunk, vocab] tensor\n",
    "            #logits represent the next scores for each embedding\n",
    "       \n",
    "        \n",
    "        if targets is None:\n",
    "            loss = None\n",
    "        else:\n",
    "            B, T, C = logits.shape\n",
    "            logits = logits.view(B * T, C)#reshaping for the loss fn\n",
    "            targets = targets.view(-1)#reshaping for the loss fn\n",
    "            loss = F.cross_entropy(logits, targets)\n",
    "        return logits, loss\n",
    "    def generate(self, idx, max):\n",
    "        #idx is the current token\n",
    "        for _ in range(max):\n",
    "            #get predictions\n",
    "            logits, loss = self(idx)\n",
    "            logits = logits[:,-1,:]#get the timestep to form (B,C) tensor\n",
    "            probs= F.softmax(logits, dim=-1)\n",
    "            next = torch.multinomial(probs, num_samples=1)\n",
    "            idx = torch.cat((idx, next), dim=1)\n",
    "        return idx\n",
    "m = Bigram(vocab)\n",
    "logits, loss = m(xb, yb)\n",
    "print(logits.shape)\n",
    "print(loss)\n"
   ]
  },
  {
   "cell_type": "code",
   "execution_count": 16,
   "metadata": {},
   "outputs": [
    {
     "name": "stdout",
     "output_type": "stream",
     "text": [
      ";!O\n",
      "B:W'iwLVNf$sDNh:t\n",
      "cG!qJjurUEmqqZH,ez:;c!o3xOz,QKUZBdEjIFz??,G?,v!Ep&kHOFPZlfwnmhZE-,in.fhmhpYDjpO\n"
     ]
    }
   ],
   "source": [
    "#testing\n",
    "idx = torch.zeros((1, 1), dtype=torch.long)\n",
    "print(decode(m.generate(idx, 100)[0].tolist()))"
   ]
  },
  {
   "cell_type": "code",
   "execution_count": 17,
   "metadata": {},
   "outputs": [],
   "source": [
    "#training\n",
    "optimizer = torch.optim.AdamW(m.parameters(), lr=1e-3)"
   ]
  },
  {
   "cell_type": "code",
   "execution_count": 18,
   "metadata": {},
   "outputs": [
    {
     "name": "stdout",
     "output_type": "stream",
     "text": [
      "3.234619617462158\n"
     ]
    }
   ],
   "source": [
    "batch_size=32\n",
    "for i in range(10000):\n",
    "    x,y = get_batch('train')\n",
    "    logits, loss = m(x, y)\n",
    "    optimizer.zero_grad(set_to_none=True)#set grads to 0\n",
    "    loss.backward()#do backward prop\n",
    "    optimizer.step()#update params based on grad values\n",
    "print(loss.item())"
   ]
  },
  {
   "cell_type": "code",
   "execution_count": 19,
   "metadata": {},
   "outputs": [
    {
     "name": "stdout",
     "output_type": "stream",
     "text": [
      ";E aowPuInh\n",
      "V, camnrrohesaamaOasnoAn\n",
      " an N'd, ienent rvamwt hlhnlIweo ieCGe;,?h ouf,oxa yoteU-Oaf!yrn\n"
     ]
    }
   ],
   "source": [
    "print(decode(m.generate(idx, 100)[0].tolist()))"
   ]
  },
  {
   "cell_type": "code",
   "execution_count": 20,
   "metadata": {},
   "outputs": [
    {
     "data": {
      "text/plain": [
       "torch.Size([8, 4, 2])"
      ]
     },
     "execution_count": 20,
     "metadata": {},
     "output_type": "execute_result"
    }
   ],
   "source": [
    "torch.manual_seed(0)\n",
    "B, T,C = 8,4,2\n",
    "x = torch.randn(B,T,C) #b is batches, t is chunks, c is vocab size\n",
    "x.shape"
   ]
  },
  {
   "cell_type": "code",
   "execution_count": 21,
   "metadata": {},
   "outputs": [],
   "source": [
    "xbow = torch.zeros(B, T, C)\n",
    "for b in range(B):\n",
    "    for t in range(T):\n",
    "        xprev = x[b, :t+1] \n",
    "        xbow[b, t] = torch.mean(xprev, 0)"
   ]
  },
  {
   "cell_type": "code",
   "execution_count": 22,
   "metadata": {},
   "outputs": [
    {
     "data": {
      "text/plain": [
       "tensor([[-1.1258, -1.1524],\n",
       "        [-0.6882, -0.7931],\n",
       "        [-0.1759, -0.2981],\n",
       "        [-0.2109, -0.7524]])"
      ]
     },
     "execution_count": 22,
     "metadata": {},
     "output_type": "execute_result"
    }
   ],
   "source": [
    "xbow[0]"
   ]
  },
  {
   "cell_type": "code",
   "execution_count": 23,
   "metadata": {},
   "outputs": [],
   "source": [
    "#@can be used for matrix multiplication\n",
    "#more efficient way of memory using matrix averaging.\n",
    "tril = torch.tril(torch.ones(T, T))\n",
    "weights = torch.tril(torch.zeros(T, T)) #lower triange matrix\n",
    "weights = weights/weights.sum(1, keepdim=True)#make each row sum to 1, as probabilities should be from 0 to 1\n",
    "xbow2 = weights@x"
   ]
  },
  {
   "cell_type": "code",
   "execution_count": 24,
   "metadata": {},
   "outputs": [
    {
     "data": {
      "text/plain": [
       "tensor([[[-1.1258, -1.1524],\n",
       "         [-0.6882, -0.7931],\n",
       "         [-0.1759, -0.2981],\n",
       "         [-0.2109, -0.7524]],\n",
       "\n",
       "        [[ 0.3223, -1.2633],\n",
       "         [ 0.3361, -0.4776],\n",
       "         [ 0.2640,  0.0942],\n",
       "         [ 0.4772,  0.0088]],\n",
       "\n",
       "        [[-1.3527, -1.6959],\n",
       "         [-0.3930, -0.4512],\n",
       "         [-0.0624, -0.8192],\n",
       "         [-0.1321, -0.1511]],\n",
       "\n",
       "        [[ 0.7502, -0.5855],\n",
       "         [ 0.2884, -0.2010],\n",
       "         [ 0.6554,  0.3948],\n",
       "         [ 0.7281,  0.0852]],\n",
       "\n",
       "        [[-0.6136,  0.0316],\n",
       "         [-0.5531,  0.1400],\n",
       "         [-0.2222,  0.1308],\n",
       "         [-0.0064,  0.2084]],\n",
       "\n",
       "        [[-0.1023,  0.7924],\n",
       "         [-0.1960,  0.4225],\n",
       "         [ 0.0436,  1.0491],\n",
       "         [-0.3345,  0.3901]],\n",
       "\n",
       "        [[-0.6731,  0.8728],\n",
       "         [ 0.1911,  0.5253],\n",
       "         [ 0.0506,  0.2196],\n",
       "         [ 0.1738,  0.0659]],\n",
       "\n",
       "        [[-0.4462,  0.7440],\n",
       "         [ 0.5374,  2.0773],\n",
       "         [-0.1521,  0.9735],\n",
       "         [ 0.3408,  0.5922]]])"
      ]
     },
     "execution_count": 24,
     "metadata": {},
     "output_type": "execute_result"
    }
   ],
   "source": [
    "weights = torch.tril(torch.ones(T, T)) #lower triange matrix\n",
    "weights = weights.masked_fill(tril == 0, float('-inf'))\n",
    "weights = F.softmax(weights, dim=-1)\n",
    "weights #again, same thing, but uses a softmax function, which exponentiates the values and then normalizes them\n",
    "xbow3 = weights@x\n",
    "xbow3\n",
    "#basically, the weights are used to represent each time step as a weighted average of all the previous time steps"
   ]
  },
  {
   "cell_type": "code",
   "execution_count": 31,
   "metadata": {},
   "outputs": [
    {
     "data": {
      "text/plain": [
       "torch.Size([4, 8, 16])"
      ]
     },
     "execution_count": 31,
     "metadata": {},
     "output_type": "execute_result"
    }
   ],
   "source": [
    "#self-attention: works by giving memory in a data dependent way. Every token in every position emits 2 vectors:\n",
    "#query and key. The query vector,\"what am i looking for\", is compared to every key vector to get a score. \n",
    "#the key vector, 'what do i contain', is used to perform a dot product with the query vector. the dot product becomes the weight.\n",
    "\n",
    "#using a single head:\n",
    "head_size = 16\n",
    "B, T, C = 4, 8, 32\n",
    "x = torch.randn(B, T, C)\n",
    "key = nn.Linear(C, head_size, bias=False)\n",
    "query = nn.Linear(C, head_size, bias=False) #simple dot product\n",
    "value = nn.Linear(C, head_size, bias=False)\n",
    "k = key(x) # [B, T, 16]\n",
    "q = query(x)# [B, T, 16]\n",
    "v = value(x)# [B, T, 16]\n",
    "wei = q @ k.transpose(-2, -1) # [B, T, 16]@[B, 16, T] -> [B, T, T] this gives the affinity score\n",
    "tril = torch.tril(torch.ones(T, T)) # [T, T] lower triangular matrix\n",
    "wei = wei.masked_fill(tril == 0, float('-inf')) # [B, T, T] masking the upper triangular matrix to disallow future tokens\n",
    "wei = F.softmax(wei, dim=-1) # [B, T, T] softmax along the last dimension\n",
    "output = wei @ v # [B, T, T]@[B, T, C] -> [B, T, C] this gives the weighted sum of the values\n",
    "output.shape"
   ]
  },
  {
   "cell_type": "code",
   "execution_count": 32,
   "metadata": {},
   "outputs": [
    {
     "data": {
      "text/plain": [
       "tensor([[1.0000e+00, 0.0000e+00, 0.0000e+00, 0.0000e+00, 0.0000e+00, 0.0000e+00,\n",
       "         0.0000e+00, 0.0000e+00],\n",
       "        [4.2854e-02, 9.5715e-01, 0.0000e+00, 0.0000e+00, 0.0000e+00, 0.0000e+00,\n",
       "         0.0000e+00, 0.0000e+00],\n",
       "        [4.7353e-02, 5.8926e-02, 8.9372e-01, 0.0000e+00, 0.0000e+00, 0.0000e+00,\n",
       "         0.0000e+00, 0.0000e+00],\n",
       "        [2.0357e-01, 1.4476e-01, 6.1413e-01, 3.7541e-02, 0.0000e+00, 0.0000e+00,\n",
       "         0.0000e+00, 0.0000e+00],\n",
       "        [2.0271e-01, 1.7030e-01, 1.2484e-01, 8.8532e-02, 4.1362e-01, 0.0000e+00,\n",
       "         0.0000e+00, 0.0000e+00],\n",
       "        [1.4038e-01, 2.0584e-02, 5.9102e-01, 3.9057e-02, 1.8155e-01, 2.7407e-02,\n",
       "         0.0000e+00, 0.0000e+00],\n",
       "        [7.8017e-02, 5.4403e-01, 3.2077e-02, 1.9174e-01, 8.4955e-03, 6.5421e-02,\n",
       "         8.0217e-02, 0.0000e+00],\n",
       "        [5.6004e-02, 1.8383e-02, 4.3535e-04, 4.4384e-02, 3.3305e-02, 7.5200e-03,\n",
       "         2.5908e-02, 8.1406e-01]], grad_fn=<SelectBackward0>)"
      ]
     },
     "execution_count": 32,
     "metadata": {},
     "output_type": "execute_result"
    }
   ],
   "source": [
    "wei[0]"
   ]
  },
  {
   "cell_type": "code",
   "execution_count": 3,
   "metadata": {},
   "outputs": [
    {
     "name": "stdout",
     "output_type": "stream",
     "text": [
      "Subarray 1: [1000]\n",
      "Subarray 2: [550]\n",
      "Subarray 3: [100, 12, 10, 7, 5]\n"
     ]
    }
   ],
   "source": [
    "def partition_minimized_difference(arr):\n",
    "    arr.sort()\n",
    "    n = len(arr)\n",
    "    \n",
    "    # Initialize three subarrays\n",
    "    subarrays = [[] for _ in range(3)]\n",
    "    \n",
    "    # Distribute elements while minimizing differences\n",
    "    for i in range(n - 1, -1, -1):\n",
    "        min_subarray = min(subarrays, key=lambda subarray: sum(subarray))\n",
    "        min_subarray.append(arr[i])\n",
    "    \n",
    "    return subarrays\n",
    "\n",
    "# Example usage\n",
    "nums = [5, 7, 10, 12, 100, 550, 1000]\n",
    "subarrays = partition_minimized_difference(nums)\n",
    "for i, subarray in enumerate(subarrays):\n",
    "    print(f\"Subarray {i + 1}:\", subarray)"
   ]
  },
  {
   "cell_type": "code",
   "execution_count": null,
   "metadata": {},
   "outputs": [],
   "source": []
  }
 ],
 "metadata": {
  "kernelspec": {
   "display_name": "Python 3",
   "language": "python",
   "name": "python3"
  },
  "language_info": {
   "codemirror_mode": {
    "name": "ipython",
    "version": 3
   },
   "file_extension": ".py",
   "mimetype": "text/x-python",
   "name": "python",
   "nbconvert_exporter": "python",
   "pygments_lexer": "ipython3",
   "version": "3.10.7"
  },
  "orig_nbformat": 4
 },
 "nbformat": 4,
 "nbformat_minor": 2
}
