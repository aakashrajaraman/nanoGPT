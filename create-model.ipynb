{
 "cells": [
  {
   "cell_type": "code",
   "execution_count": 15,
   "metadata": {},
   "outputs": [],
   "source": [
    "import torch\n",
    "from sklearn.model_selection import train_test_split"
   ]
  },
  {
   "cell_type": "code",
   "execution_count": 1,
   "metadata": {},
   "outputs": [],
   "source": [
    "with open('input.txt', 'r', encoding = \"utf-8\") as file:\n",
    "    text = file.read()"
   ]
  },
  {
   "cell_type": "code",
   "execution_count": 27,
   "metadata": {},
   "outputs": [
    {
     "name": "stdout",
     "output_type": "stream",
     "text": [
      "1115393\n",
      "65\n"
     ]
    }
   ],
   "source": [
    "print(len(text))\n",
    "vocab = len(sorted(set(text)))\n",
    "print(vocab)"
   ]
  },
  {
   "cell_type": "code",
   "execution_count": 4,
   "metadata": {},
   "outputs": [
    {
     "name": "stdout",
     "output_type": "stream",
     "text": [
      "total chars: ['\\n', ' ', '!', '$', '&', \"'\", ',', '-', '.', '3', ':', ';', '?', 'A', 'B', 'C', 'D', 'E', 'F', 'G', 'H', 'I', 'J', 'K', 'L', 'M', 'N', 'O', 'P', 'Q', 'R', 'S', 'T', 'U', 'V', 'W', 'X', 'Y', 'Z', 'a', 'b', 'c', 'd', 'e', 'f', 'g', 'h', 'i', 'j', 'k', 'l', 'm', 'n', 'o', 'p', 'q', 'r', 's', 't', 'u', 'v', 'w', 'x', 'y', 'z'] 65\n"
     ]
    }
   ],
   "source": [
    "#find all unique characters in the text\n",
    "chars = sorted(list(set(text)))\n",
    "print('total chars:',chars,  len(chars))"
   ]
  },
  {
   "cell_type": "code",
   "execution_count": 7,
   "metadata": {},
   "outputs": [
    {
     "name": "stdout",
     "output_type": "stream",
     "text": [
      "[54, 35, 19, 19, 6, 61, 63, 59, 35, 32, 35]\n",
      "Hello there\n"
     ]
    }
   ],
   "source": [
    "#create tokens for each char\n",
    "tokens = {char: idx for idx, char in enumerate(set(text))}\n",
    "snekot = {idx: char for idx, char in enumerate(set(text))}\n",
    "encode = lambda s: [tokens[c] for c in s]\n",
    "decode = lambda a: ''.join([snekot[i] for i in a])\n",
    "print(encode(\"Hello there\"))\n",
    "print(decode(encode(\"Hello there\")))\n"
   ]
  },
  {
   "cell_type": "code",
   "execution_count": 9,
   "metadata": {},
   "outputs": [
    {
     "data": {
      "text/plain": [
       "[89, 212, 25, 1370, 5]"
      ]
     },
     "execution_count": 9,
     "metadata": {},
     "output_type": "execute_result"
    }
   ],
   "source": [
    "import sentencepiece as spm\n",
    "spm.SentencePieceTrainer.train(input='input.txt', model_prefix='model', vocab_size=10000)\n"
   ]
  },
  {
   "cell_type": "code",
   "execution_count": 12,
   "metadata": {},
   "outputs": [
    {
     "data": {
      "text/plain": [
       "'My name is John.'"
      ]
     },
     "execution_count": 12,
     "metadata": {},
     "output_type": "execute_result"
    }
   ],
   "source": [
    "sp = spm.SentencePieceProcessor(model_file='model.model')\n",
    "sp.Encode(\"My name is John.\")\n",
    "sp.DecodeIds([89, 212, 25, 1370, 5])"
   ]
  },
  {
   "cell_type": "code",
   "execution_count": 14,
   "metadata": {},
   "outputs": [],
   "source": [
    "data = torch.tensor(encode(text), dtype=torch.int64)"
   ]
  },
  {
   "cell_type": "code",
   "execution_count": 16,
   "metadata": {},
   "outputs": [],
   "source": [
    "train_data, val_data = train_test_split(data, test_size=0.1, random_state=42)"
   ]
  },
  {
   "cell_type": "code",
   "execution_count": 17,
   "metadata": {},
   "outputs": [
    {
     "data": {
      "text/plain": [
       "tensor([50, 18, 18, 63, 37, 61, 36, 27, 32, 19, 57])"
      ]
     },
     "execution_count": 17,
     "metadata": {},
     "output_type": "execute_result"
    }
   ],
   "source": [
    "block_size = 10\n",
    "train_data[:block_size+1]\n",
    "#this simulates a basic ngram proposition, where 50 implies 18. 50 and 18 implies 18. 50, 18, and 18 implies 63. etc.\n",
    "#this trains the transformer to be used to context of n=1 all the way up to n=block_size."
   ]
  },
  {
   "cell_type": "code",
   "execution_count": 18,
   "metadata": {},
   "outputs": [],
   "source": [
    "#blocks/chunks are groups of tokens\n",
    "#batches are groups of blocks/chunks"
   ]
  },
  {
   "cell_type": "code",
   "execution_count": 19,
   "metadata": {},
   "outputs": [],
   "source": [
    "torch.manual_seed(0)\n",
    "block_size = 10\n",
    "batch_size = 4\n",
    "def get_batch(split):\n",
    "    data = train_data if split == \"train\" else val_data\n",
    "    ix = torch.randint(0,len(data) - block_size - 1, (batch_size,))\n",
    "    x = torch.stack([data[i:i+block_size] for i in ix])\n",
    "    y = torch.stack([data[i+1:i+block_size+1] for i in ix])\n",
    "    return x, y"
   ]
  },
  {
   "cell_type": "code",
   "execution_count": 24,
   "metadata": {},
   "outputs": [
    {
     "name": "stdout",
     "output_type": "stream",
     "text": [
      "torch.Size([4, 10]) \n",
      " tensor([[32, 59, 50, 35, 16, 59, 19,  6, 18,  6],\n",
      "        [60, 18, 63, 23, 61, 50, 32, 19, 52,  9],\n",
      "        [54, 59, 63, 63, 47,  5, 61, 41, 61, 25],\n",
      "        [14, 43,  5, 47, 18, 58, 32, 61,  5, 49]])\n",
      "torch.Size([4, 10]) \n",
      " tensor([[59, 50, 35, 16, 59, 19,  6, 18,  6,  5],\n",
      "        [18, 63, 23, 61, 50, 32, 19, 52,  9, 18],\n",
      "        [59, 63, 63, 47,  5, 61, 41, 61, 25, 23],\n",
      "        [43,  5, 47, 18, 58, 32, 61,  5, 49, 23]])\n",
      "When input is tensor([32]) target is tensor(59)\n",
      "When input is tensor([32, 59]) target is tensor(50)\n",
      "When input is tensor([32, 59, 50]) target is tensor(35)\n",
      "When input is tensor([32, 59, 50, 35]) target is tensor(16)\n",
      "When input is tensor([32, 59, 50, 35, 16]) target is tensor(59)\n",
      "When input is tensor([32, 59, 50, 35, 16, 59]) target is tensor(19)\n",
      "When input is tensor([32, 59, 50, 35, 16, 59, 19]) target is tensor(6)\n",
      "When input is tensor([32, 59, 50, 35, 16, 59, 19,  6]) target is tensor(18)\n",
      "When input is tensor([32, 59, 50, 35, 16, 59, 19,  6, 18]) target is tensor(6)\n",
      "When input is tensor([32, 59, 50, 35, 16, 59, 19,  6, 18,  6]) target is tensor(5)\n",
      "When input is tensor([60]) target is tensor(18)\n",
      "When input is tensor([60, 18]) target is tensor(63)\n",
      "When input is tensor([60, 18, 63]) target is tensor(23)\n",
      "When input is tensor([60, 18, 63, 23]) target is tensor(61)\n",
      "When input is tensor([60, 18, 63, 23, 61]) target is tensor(50)\n",
      "When input is tensor([60, 18, 63, 23, 61, 50]) target is tensor(32)\n",
      "When input is tensor([60, 18, 63, 23, 61, 50, 32]) target is tensor(19)\n",
      "When input is tensor([60, 18, 63, 23, 61, 50, 32, 19]) target is tensor(52)\n",
      "When input is tensor([60, 18, 63, 23, 61, 50, 32, 19, 52]) target is tensor(9)\n",
      "When input is tensor([60, 18, 63, 23, 61, 50, 32, 19, 52,  9]) target is tensor(18)\n",
      "When input is tensor([54]) target is tensor(59)\n",
      "When input is tensor([54, 59]) target is tensor(63)\n",
      "When input is tensor([54, 59, 63]) target is tensor(63)\n",
      "When input is tensor([54, 59, 63, 63]) target is tensor(47)\n",
      "When input is tensor([54, 59, 63, 63, 47]) target is tensor(5)\n",
      "When input is tensor([54, 59, 63, 63, 47,  5]) target is tensor(61)\n",
      "When input is tensor([54, 59, 63, 63, 47,  5, 61]) target is tensor(41)\n",
      "When input is tensor([54, 59, 63, 63, 47,  5, 61, 41]) target is tensor(61)\n",
      "When input is tensor([54, 59, 63, 63, 47,  5, 61, 41, 61]) target is tensor(25)\n",
      "When input is tensor([54, 59, 63, 63, 47,  5, 61, 41, 61, 25]) target is tensor(23)\n",
      "When input is tensor([14]) target is tensor(43)\n",
      "When input is tensor([14, 43]) target is tensor(5)\n",
      "When input is tensor([14, 43,  5]) target is tensor(47)\n",
      "When input is tensor([14, 43,  5, 47]) target is tensor(18)\n",
      "When input is tensor([14, 43,  5, 47, 18]) target is tensor(58)\n",
      "When input is tensor([14, 43,  5, 47, 18, 58]) target is tensor(32)\n",
      "When input is tensor([14, 43,  5, 47, 18, 58, 32]) target is tensor(61)\n",
      "When input is tensor([14, 43,  5, 47, 18, 58, 32, 61]) target is tensor(5)\n",
      "When input is tensor([14, 43,  5, 47, 18, 58, 32, 61,  5]) target is tensor(49)\n",
      "When input is tensor([14, 43,  5, 47, 18, 58, 32, 61,  5, 49]) target is tensor(23)\n"
     ]
    }
   ],
   "source": [
    "xb,yb = get_batch('train')\n",
    "print(xb.shape,'\\n',xb)\n",
    "print(yb.shape,'\\n',yb)\n",
    "for b in range(batch_size):\n",
    "    for c in range(block_size):\n",
    "        con = xb[b, :c+1]\n",
    "        tar = yb[b, c]\n",
    "        print(\"When input is\", con, \"target is\", tar)"
   ]
  },
  {
   "cell_type": "code",
   "execution_count": 52,
   "metadata": {},
   "outputs": [
    {
     "name": "stdout",
     "output_type": "stream",
     "text": [
      "torch.Size([40, 65])\n",
      "tensor(4.5501, grad_fn=<NllLossBackward0>)\n"
     ]
    }
   ],
   "source": [
    "import torch.nn as nn\n",
    "import torch.nn.functional as F\n",
    "class Bigram(nn.Module):\n",
    "    def __init__(self,  vocab):\n",
    "        super().__init__()\n",
    "        self.token_embedding_table= nn.Embedding(vocab, vocab)\n",
    "    def forward(self, idx, targets=None):\n",
    "        logits= self.token_embedding_table(idx)#creates a [batch, chunk, vocab] tensor\n",
    "            #logits represent the next scores for each embedding\n",
    "       \n",
    "        \n",
    "        if targets is None:\n",
    "            loss = None\n",
    "        else:\n",
    "            B, T, C = logits.shape\n",
    "            logits = logits.view(B * T, C)#reshaping for the loss fn\n",
    "            targets = targets.view(-1)#reshaping for the loss fn\n",
    "            loss = F.cross_entropy(logits, targets)\n",
    "        return logits, loss\n",
    "    def generate(self, idx, max):\n",
    "        #idx is the current token\n",
    "        for _ in range(max):\n",
    "            #get predictions\n",
    "            logits, loss = self(idx)\n",
    "            logits = logits[:,-1,:]#get the timestep to form (B,C) tensor\n",
    "            probs= F.softmax(logits, dim=-1)\n",
    "            next = torch.multinomial(probs, num_samples=1)\n",
    "            idx = torch.cat((idx, next), dim=1)\n",
    "        return idx\n",
    "m = Bigram(vocab)\n",
    "logits, loss = m(xb, yb)\n",
    "print(logits.shape)\n",
    "print(loss)\n"
   ]
  },
  {
   "cell_type": "code",
   "execution_count": 54,
   "metadata": {},
   "outputs": [
    {
     "name": "stdout",
     "output_type": "stream",
     "text": [
      "MzLM\n"
     ]
    }
   ],
   "source": [
    "#testing\n",
    "idx = torch.zeros((1, 1), dtype=torch.long)\n",
    "print(decode(m.generate(idx, 100)[0].tolist()))"
   ]
  },
  {
   "cell_type": "code",
   "execution_count": 55,
   "metadata": {},
   "outputs": [],
   "source": [
    "#training\n",
    "optimizer = torch.optim.AdamW(m.parameters(), lr=1e-3)"
   ]
  },
  {
   "cell_type": "code",
   "execution_count": 66,
   "metadata": {},
   "outputs": [
    {
     "name": "stdout",
     "output_type": "stream",
     "text": [
      "3.302943706512451\n"
     ]
    }
   ],
   "source": [
    "batch_size=32\n",
    "for i in range(10000):\n",
    "    x,y = get_batch('train')\n",
    "    logits, loss = m(x, y)\n",
    "    optimizer.zero_grad(set_to_none=True)#set grads to 0\n",
    "    loss.backward()#do backward prop\n",
    "    optimizer.step()#update params based on grad values\n",
    "print(loss.item())"
   ]
  },
  {
   "cell_type": "code",
   "execution_count": 67,
   "metadata": {},
   "outputs": [
    {
     "name": "stdout",
     "output_type": "stream",
     "text": [
      "Mhd h\n",
      "bTac'ohrremhabsysiwhwo:yi \n",
      "i ratgni n en,c eehau nuioitot,meulve ;bao l ee uilufsla\n",
      "cItsri,tn\n",
      "X\n"
     ]
    }
   ],
   "source": [
    "print(decode(m.generate(idx, 100)[0].tolist()))"
   ]
  },
  {
   "cell_type": "code",
   "execution_count": 81,
   "metadata": {},
   "outputs": [
    {
     "data": {
      "text/plain": [
       "torch.Size([8, 4, 2])"
      ]
     },
     "execution_count": 81,
     "metadata": {},
     "output_type": "execute_result"
    }
   ],
   "source": [
    "torch.manual_seed(0)\n",
    "B, T,C = 8,4,2\n",
    "x = torch.randn(B,T,C) #b is batches, t is chunks, c is vocab size\n",
    "x.shape"
   ]
  },
  {
   "cell_type": "code",
   "execution_count": 82,
   "metadata": {},
   "outputs": [],
   "source": [
    "xbow = torch.zeros(B, T, C)\n",
    "for b in range(B):\n",
    "    for t in range(T):\n",
    "        xprev = x[b, :t+1] \n",
    "        xbow[b, t] = torch.mean(xprev, 0)"
   ]
  },
  {
   "cell_type": "code",
   "execution_count": 83,
   "metadata": {},
   "outputs": [
    {
     "data": {
      "text/plain": [
       "tensor([[-1.1258, -1.1524],\n",
       "        [-0.6882, -0.7931],\n",
       "        [-0.1759, -0.2981],\n",
       "        [-0.2109, -0.7524]])"
      ]
     },
     "execution_count": 83,
     "metadata": {},
     "output_type": "execute_result"
    }
   ],
   "source": [
    "xbow[0]"
   ]
  },
  {
   "cell_type": "code",
   "execution_count": 88,
   "metadata": {},
   "outputs": [],
   "source": [
    "#@can be used for matrix multiplication\n",
    "#more efficient way of memory using matrix averaging.\n",
    "tril = torch.tril(torch.ones(T, T))\n",
    "weights = torch.tril(torch.zeros(T, T)) #lower triange matrix\n",
    "weights = weights/weights.sum(1, keepdim=True)#make each row sum to 1, as probabilities should be from 0 to 1\n",
    "xbow2 = weights@x"
   ]
  },
  {
   "cell_type": "code",
   "execution_count": 92,
   "metadata": {},
   "outputs": [
    {
     "data": {
      "text/plain": [
       "tensor([[[-1.1258, -1.1524],\n",
       "         [-0.6882, -0.7931],\n",
       "         [-0.1759, -0.2981],\n",
       "         [-0.2109, -0.7524]],\n",
       "\n",
       "        [[ 0.3223, -1.2633],\n",
       "         [ 0.3361, -0.4776],\n",
       "         [ 0.2640,  0.0942],\n",
       "         [ 0.4772,  0.0088]],\n",
       "\n",
       "        [[-1.3527, -1.6959],\n",
       "         [-0.3930, -0.4512],\n",
       "         [-0.0624, -0.8192],\n",
       "         [-0.1321, -0.1511]],\n",
       "\n",
       "        [[ 0.7502, -0.5855],\n",
       "         [ 0.2884, -0.2010],\n",
       "         [ 0.6554,  0.3948],\n",
       "         [ 0.7281,  0.0852]],\n",
       "\n",
       "        [[-0.6136,  0.0316],\n",
       "         [-0.5531,  0.1400],\n",
       "         [-0.2222,  0.1308],\n",
       "         [-0.0064,  0.2084]],\n",
       "\n",
       "        [[-0.1023,  0.7924],\n",
       "         [-0.1960,  0.4225],\n",
       "         [ 0.0436,  1.0491],\n",
       "         [-0.3345,  0.3901]],\n",
       "\n",
       "        [[-0.6731,  0.8728],\n",
       "         [ 0.1911,  0.5253],\n",
       "         [ 0.0506,  0.2196],\n",
       "         [ 0.1738,  0.0659]],\n",
       "\n",
       "        [[-0.4462,  0.7440],\n",
       "         [ 0.5374,  2.0773],\n",
       "         [-0.1521,  0.9735],\n",
       "         [ 0.3408,  0.5922]]])"
      ]
     },
     "execution_count": 92,
     "metadata": {},
     "output_type": "execute_result"
    }
   ],
   "source": [
    "weights = torch.tril(torch.ones(T, T)) #lower triange matrix\n",
    "weights = weights.masked_fill(tril == 0, float('-inf'))\n",
    "weights = F.softmax(weights, dim=-1)\n",
    "weights #again, same thing, but uses a softmax function, which exponentiates the values and then normalizes them\n",
    "xbow3 = weights@x\n",
    "xbow3\n",
    "#basically, the weights are used to represent each time step as a weighted average of all the previous time steps"
   ]
  },
  {
   "cell_type": "code",
   "execution_count": null,
   "metadata": {},
   "outputs": [],
   "source": []
  }
 ],
 "metadata": {
  "kernelspec": {
   "display_name": "Python 3",
   "language": "python",
   "name": "python3"
  },
  "language_info": {
   "codemirror_mode": {
    "name": "ipython",
    "version": 3
   },
   "file_extension": ".py",
   "mimetype": "text/x-python",
   "name": "python",
   "nbconvert_exporter": "python",
   "pygments_lexer": "ipython3",
   "version": "3.10.7"
  },
  "orig_nbformat": 4
 },
 "nbformat": 4,
 "nbformat_minor": 2
}
